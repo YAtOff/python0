{
 "cells": [
  {
   "cell_type": "markdown",
   "metadata": {},
   "source": [
    "# Web APIs и JSON\n",
    "Тази лекция трябва да отговори на въпроса какво е API и по-специално Web API и какво е JSON.\n",
    "\n",
    "API идва от Application Programing Interface и за да разберете какво значи, трябва да разберете какво значи думичката `интерфейс`.  \n",
    "Най-просто казано интерфейса е това, което ни дава даден обект, за да ни позволи да го използваме.  \n",
    "По конкретно в порграмиратето АПИ са функциите, които позволяват на програмиста да работи\n",
    "с даден обект, библиотека, програма, операционната система или друго.  \n",
    "Сигурно се досещате, че Web API е API достъпно в интернет.\n",
    "\n",
    "Например сайтът https://fixer.io/ дава информация за валутни курсове.  \n",
    "Можем да прочетем курсовете, които сайта ни дава с помощта на Python и библиотеката `urllib`."
   ]
  },
  {
   "cell_type": "code",
   "execution_count": 1,
   "metadata": {},
   "outputs": [
    {
     "name": "stdout",
     "output_type": "stream",
     "text": [
      "b'{\"success\":true,\"timestamp\":1551901926,\"base\":\"EUR\",\"date\":\"2019-03-06\",\"rates\":{\"AED\":4.153603,\"AFN\":84.474523,\"ALL\":124.647357,\"AMD\":553.84215,\"ANG\":2.052032,\"AOA\":355.786506,\"ARS\":46.069468,\"AUD\":1.609135,\"AWG\":2.03552,\"AZN\":1.92805,\"BAM\":1.95653,\"BBD\":2.251681,\"BDT\":95.120928,\"BGN\":1.956243,\"BHD\":0.426374,\"BIF\":2069.445151,\"BMD\":1.130844,\"BND\":1.527429,\"BOB\":7.812269,\"BRL\":4.339505,\"BSD\":1.130562,\"BTC\":0.000293,\"BTN\":79.263621,\"BWP\":12.084219,\"BYN\":2.418819,\"BYR\":22164.549161,\"BZD\":2.278876,\"CAD\":1.518221,\"CDF\":1843.276362,\"CHF\":1.136335,\"CLF\":0.028325,\"CLP\":746.357599,\"CNY\":7.589664,\"COP\":3511.610944,\"CRC\":685.014583,\"CUC\":1.130844,\"CUP\":29.967375,\"CVE\":110.766112,\"CZK\":25.600507,\"DJF\":200.97366,\"DKK\":7.460861,\"DOP\":57.255114,\"DZD\":134.468786,\"EGP\":19.753549,\"ERN\":16.962729,\"ETB\":32.432251,\"EUR\":1,\"FJD\":2.408598,\"FKP\":0.859425,\"GBP\":0.858644,\"GEL\":3.030166,\"GGP\":0.858657,\"GHS\":6.253935,\"GIP\":0.859425,\"GMD\":55.920375,\"GNF\":10437.693074,\"GTQ\":8.716718,\"GYD\":236.012926,\"HKD\":8.877298,\"HNL\":27.705513,\"HRK\":7.416759,\"HTG\":93.533831,\"HUF\":315.476128,\"IDR\":16030.284012,\"ILS\":4.080762,\"IMP\":0.858657,\"INR\":79.262122,\"IQD\":1345.70477,\"IRR\":47614.20144,\"ISK\":136.741838,\"JEP\":0.858657,\"JMD\":143.322824,\"JOD\":0.802109,\"JPY\":126.4261,\"KES\":113.09577,\"KGS\":78.905343,\"KHR\":2292.13662,\"KMF\":493.047852,\"KPW\":1017.840508,\"KRW\":1275.219178,\"KWD\":0.343888,\"KYD\":0.942129,\"KZT\":427.843377,\"LAK\":9703.775006,\"LBP\":1704.745889,\"LKR\":201.844311,\"LRD\":182.91409,\"LSL\":16.12018,\"LTL\":3.33909,\"LVL\":0.684037,\"LYD\":1.577559,\"MAD\":10.852147,\"MDL\":19.30182,\"MGA\":4014.497384,\"MKD\":61.495468,\"MMK\":1713.963846,\"MNT\":2975.677471,\"MOP\":9.141067,\"MRO\":403.711321,\"MUR\":39.186584,\"MVR\":17.483141,\"MWK\":824.385304,\"MXN\":21.899825,\"MYR\":4.623457,\"MZN\":70.966158,\"NAD\":16.120196,\"NGN\":406.541255,\"NIO\":37.096362,\"NOK\":9.804047,\"NPR\":126.897683,\"NZD\":1.670088,\"OMR\":0.435415,\"PAB\":1.130562,\"PEN\":3.743618,\"PGK\":3.77758,\"PHP\":59.01933,\"PKR\":157.244051,\"PLN\":4.298961,\"PYG\":6867.735451,\"QAR\":4.117443,\"RON\":4.74333,\"RSD\":118.03715,\"RUB\":74.637648,\"RWF\":1001.92809,\"SAR\":4.241062,\"SBD\":9.274224,\"SCR\":15.611871,\"SDG\":53.83667,\"SEK\":10.513946,\"SGD\":1.534839,\"SHP\":1.493727,\"SLL\":9838.345829,\"SOS\":655.889666,\"SRD\":8.433891,\"STD\":23804.951526,\"SVC\":9.892397,\"SYP\":582.384796,\"SZL\":16.120155,\"THB\":36.013978,\"TJS\":10.672739,\"TMT\":3.969264,\"TND\":3.429287,\"TOP\":2.559949,\"TRY\":6.143736,\"TTD\":7.676567,\"TWD\":34.882593,\"TZS\":2651.147207,\"UAH\":29.911922,\"UGX\":4205.721992,\"USD\":1.130844,\"UYU\":36.944524,\"UZS\":9521.709235,\"VEF\":11.294307,\"VND\":26235.249549,\"VUV\":129.252945,\"WST\":2.934196,\"XAF\":656.183762,\"XAG\":0.07502,\"XAU\":0.000879,\"XCD\":3.056164,\"XDR\":0.813021,\"XOF\":662.674613,\"XPF\":119.699393,\"YER\":283.048882,\"ZAR\":16.128,\"ZMK\":10178.957005,\"ZMW\":13.593848,\"ZWL\":364.533341}}'\n"
     ]
    }
   ],
   "source": [
    "import urllib.request\n",
    "\n",
    "response = urllib.request.urlopen('http://data.fixer.io/api/latest?access_key=df36769ca30746523ddcb41f1e0e7faa')\n",
    "data = response.read()\n",
    "print (data)"
   ]
  },
  {
   "cell_type": "markdown",
   "metadata": {},
   "source": [
    "Както виждате сайта връща данните във формат, труден за разчитане от човек, но много наподобяващ речник от Python.  \n",
    "Това е така нареченият JSON (JavaScript Object Notation) и той се е наложил като стандарт за обмен на данни.  \n",
    "Хубавото за нас е, че JSON може директно да се съпостави с типовете в Python. За целта използваме модула `json`."
   ]
  },
  {
   "cell_type": "markdown",
   "metadata": {},
   "source": [
    "JSON | Python\n",
    "--- | ---\n",
    "object | dict\n",
    "array | list\n",
    "string | str\n",
    "number (int) | int\n",
    "number (real) | float\n",
    "true | True\n",
    "false | False\n",
    "null | None \n"
   ]
  },
  {
   "cell_type": "code",
   "execution_count": 2,
   "metadata": {},
   "outputs": [
    {
     "name": "stdout",
     "output_type": "stream",
     "text": [
      "{\n",
      "    \"речник\": {\n",
      "        \"списък\": [1, 2, 3],\n",
      "        \"текст\": \"още текст\",\n",
      "        \"цяло число\": 1,\n",
      "        \"реално число\": 1.5,\n",
      "        \"истина\": true,\n",
      "        \"лъжа\": false,\n",
      "        \"нищо\": null\n",
      "    }\n",
      "\n",
      "}\n",
      "{'речник': {'истина': True,\n",
      "            'лъжа': False,\n",
      "            'нищо': None,\n",
      "            'реално число': 1.5,\n",
      "            'списък': [1, 2, 3],\n",
      "            'текст': 'още текст',\n",
      "            'цяло число': 1}}\n"
     ]
    }
   ],
   "source": [
    "import json\n",
    "import pprint\n",
    "\n",
    "json_data = '''{\n",
    "    \"речник\": {\n",
    "        \"списък\": [1, 2, 3],\n",
    "        \"текст\": \"още текст\",\n",
    "        \"цяло число\": 1,\n",
    "        \"реално число\": 1.5,\n",
    "        \"истина\": true,\n",
    "        \"лъжа\": false,\n",
    "        \"нищо\": null\n",
    "    }\n",
    "\n",
    "}'''\n",
    "print(json_data)\n",
    "\n",
    "\n",
    "python_data = json.loads(json_data)\n",
    "pprint.pprint(python_data)"
   ]
  },
  {
   "cell_type": "code",
   "execution_count": 3,
   "metadata": {},
   "outputs": [
    {
     "name": "stdout",
     "output_type": "stream",
     "text": [
      "{'base': 'EUR',\n",
      " 'date': '2019-03-06',\n",
      " 'rates': {'AED': 4.153603,\n",
      "           'AFN': 84.474523,\n",
      "           'ALL': 124.647357,\n",
      "           'AMD': 553.84215,\n",
      "           'ANG': 2.052032,\n",
      "           'AOA': 355.786506,\n",
      "           'ARS': 46.069468,\n",
      "           'AUD': 1.609135,\n",
      "           'AWG': 2.03552,\n",
      "           'AZN': 1.92805,\n",
      "           'BAM': 1.95653,\n",
      "           'BBD': 2.251681,\n",
      "           'BDT': 95.120928,\n",
      "           'BGN': 1.956243,\n",
      "           'BHD': 0.426374,\n",
      "           'BIF': 2069.445151,\n",
      "           'BMD': 1.130844,\n",
      "           'BND': 1.527429,\n",
      "           'BOB': 7.812269,\n",
      "           'BRL': 4.339505,\n",
      "           'BSD': 1.130562,\n",
      "           'BTC': 0.000293,\n",
      "           'BTN': 79.263621,\n",
      "           'BWP': 12.084219,\n",
      "           'BYN': 2.418819,\n",
      "           'BYR': 22164.549161,\n",
      "           'BZD': 2.278876,\n",
      "           'CAD': 1.518221,\n",
      "           'CDF': 1843.276362,\n",
      "           'CHF': 1.136335,\n",
      "           'CLF': 0.028325,\n",
      "           'CLP': 746.357599,\n",
      "           'CNY': 7.589664,\n",
      "           'COP': 3511.610944,\n",
      "           'CRC': 685.014583,\n",
      "           'CUC': 1.130844,\n",
      "           'CUP': 29.967375,\n",
      "           'CVE': 110.766112,\n",
      "           'CZK': 25.600507,\n",
      "           'DJF': 200.97366,\n",
      "           'DKK': 7.460861,\n",
      "           'DOP': 57.255114,\n",
      "           'DZD': 134.468786,\n",
      "           'EGP': 19.753549,\n",
      "           'ERN': 16.962729,\n",
      "           'ETB': 32.432251,\n",
      "           'EUR': 1,\n",
      "           'FJD': 2.408598,\n",
      "           'FKP': 0.859425,\n",
      "           'GBP': 0.858644,\n",
      "           'GEL': 3.030166,\n",
      "           'GGP': 0.858657,\n",
      "           'GHS': 6.253935,\n",
      "           'GIP': 0.859425,\n",
      "           'GMD': 55.920375,\n",
      "           'GNF': 10437.693074,\n",
      "           'GTQ': 8.716718,\n",
      "           'GYD': 236.012926,\n",
      "           'HKD': 8.877298,\n",
      "           'HNL': 27.705513,\n",
      "           'HRK': 7.416759,\n",
      "           'HTG': 93.533831,\n",
      "           'HUF': 315.476128,\n",
      "           'IDR': 16030.284012,\n",
      "           'ILS': 4.080762,\n",
      "           'IMP': 0.858657,\n",
      "           'INR': 79.262122,\n",
      "           'IQD': 1345.70477,\n",
      "           'IRR': 47614.20144,\n",
      "           'ISK': 136.741838,\n",
      "           'JEP': 0.858657,\n",
      "           'JMD': 143.322824,\n",
      "           'JOD': 0.802109,\n",
      "           'JPY': 126.4261,\n",
      "           'KES': 113.09577,\n",
      "           'KGS': 78.905343,\n",
      "           'KHR': 2292.13662,\n",
      "           'KMF': 493.047852,\n",
      "           'KPW': 1017.840508,\n",
      "           'KRW': 1275.219178,\n",
      "           'KWD': 0.343888,\n",
      "           'KYD': 0.942129,\n",
      "           'KZT': 427.843377,\n",
      "           'LAK': 9703.775006,\n",
      "           'LBP': 1704.745889,\n",
      "           'LKR': 201.844311,\n",
      "           'LRD': 182.91409,\n",
      "           'LSL': 16.12018,\n",
      "           'LTL': 3.33909,\n",
      "           'LVL': 0.684037,\n",
      "           'LYD': 1.577559,\n",
      "           'MAD': 10.852147,\n",
      "           'MDL': 19.30182,\n",
      "           'MGA': 4014.497384,\n",
      "           'MKD': 61.495468,\n",
      "           'MMK': 1713.963846,\n",
      "           'MNT': 2975.677471,\n",
      "           'MOP': 9.141067,\n",
      "           'MRO': 403.711321,\n",
      "           'MUR': 39.186584,\n",
      "           'MVR': 17.483141,\n",
      "           'MWK': 824.385304,\n",
      "           'MXN': 21.899825,\n",
      "           'MYR': 4.623457,\n",
      "           'MZN': 70.966158,\n",
      "           'NAD': 16.120196,\n",
      "           'NGN': 406.541255,\n",
      "           'NIO': 37.096362,\n",
      "           'NOK': 9.804047,\n",
      "           'NPR': 126.897683,\n",
      "           'NZD': 1.670088,\n",
      "           'OMR': 0.435415,\n",
      "           'PAB': 1.130562,\n",
      "           'PEN': 3.743618,\n",
      "           'PGK': 3.77758,\n",
      "           'PHP': 59.01933,\n",
      "           'PKR': 157.244051,\n",
      "           'PLN': 4.298961,\n",
      "           'PYG': 6867.735451,\n",
      "           'QAR': 4.117443,\n",
      "           'RON': 4.74333,\n",
      "           'RSD': 118.03715,\n",
      "           'RUB': 74.637648,\n",
      "           'RWF': 1001.92809,\n",
      "           'SAR': 4.241062,\n",
      "           'SBD': 9.274224,\n",
      "           'SCR': 15.611871,\n",
      "           'SDG': 53.83667,\n",
      "           'SEK': 10.513946,\n",
      "           'SGD': 1.534839,\n",
      "           'SHP': 1.493727,\n",
      "           'SLL': 9838.345829,\n",
      "           'SOS': 655.889666,\n",
      "           'SRD': 8.433891,\n",
      "           'STD': 23804.951526,\n",
      "           'SVC': 9.892397,\n",
      "           'SYP': 582.384796,\n",
      "           'SZL': 16.120155,\n",
      "           'THB': 36.013978,\n",
      "           'TJS': 10.672739,\n",
      "           'TMT': 3.969264,\n",
      "           'TND': 3.429287,\n",
      "           'TOP': 2.559949,\n",
      "           'TRY': 6.143736,\n",
      "           'TTD': 7.676567,\n",
      "           'TWD': 34.882593,\n",
      "           'TZS': 2651.147207,\n",
      "           'UAH': 29.911922,\n",
      "           'UGX': 4205.721992,\n",
      "           'USD': 1.130844,\n",
      "           'UYU': 36.944524,\n",
      "           'UZS': 9521.709235,\n",
      "           'VEF': 11.294307,\n",
      "           'VND': 26235.249549,\n",
      "           'VUV': 129.252945,\n",
      "           'WST': 2.934196,\n",
      "           'XAF': 656.183762,\n",
      "           'XAG': 0.07502,\n",
      "           'XAU': 0.000879,\n",
      "           'XCD': 3.056164,\n",
      "           'XDR': 0.813021,\n",
      "           'XOF': 662.674613,\n",
      "           'XPF': 119.699393,\n",
      "           'YER': 283.048882,\n",
      "           'ZAR': 16.128,\n",
      "           'ZMK': 10178.957005,\n",
      "           'ZMW': 13.593848,\n",
      "           'ZWL': 364.533341},\n",
      " 'success': True,\n",
      " 'timestamp': 1551901926}\n",
      "1 EUR is 1.956243 lev\n",
      "1 EUR is 1.130844 dollars\n"
     ]
    }
   ],
   "source": [
    "# Така преобразуваме текст, форматиран като JSON в Python обект\n",
    "data_dict = json.loads(data)\n",
    "# data вече е речник\n",
    "pprint.pprint(data_dict)\n",
    "rates = data_dict['rates']\n",
    "print('1 EUR is %f lev' % rates['BGN'])\n",
    "print('1 EUR is %f dollars' % rates['USD'])"
   ]
  },
  {
   "cell_type": "markdown",
   "metadata": {},
   "source": [
    "## Ето още един пример - Web APIs предоставящо база данни с кучета"
   ]
  },
  {
   "cell_type": "code",
   "execution_count": 4,
   "metadata": {},
   "outputs": [
    {
     "name": "stdout",
     "output_type": "stream",
     "text": [
      "{'message': {'affenpinscher': [],\n",
      "             'african': [],\n",
      "             'airedale': [],\n",
      "             'akita': [],\n",
      "             'appenzeller': [],\n",
      "             'basenji': [],\n",
      "             'beagle': [],\n",
      "             'bluetick': [],\n",
      "             'borzoi': [],\n",
      "             'bouvier': [],\n",
      "             'boxer': [],\n",
      "             'brabancon': [],\n",
      "             'briard': [],\n",
      "             'bulldog': ['boston', 'french'],\n",
      "             'bullterrier': ['staffordshire'],\n",
      "             'cairn': [],\n",
      "             'cattledog': ['australian'],\n",
      "             'chihuahua': [],\n",
      "             'chow': [],\n",
      "             'clumber': [],\n",
      "             'cockapoo': [],\n",
      "             'collie': ['border'],\n",
      "             'coonhound': [],\n",
      "             'corgi': ['cardigan'],\n",
      "             'cotondetulear': [],\n",
      "             'dachshund': [],\n",
      "             'dalmatian': [],\n",
      "             'dane': ['great'],\n",
      "             'deerhound': ['scottish'],\n",
      "             'dhole': [],\n",
      "             'dingo': [],\n",
      "             'doberman': [],\n",
      "             'elkhound': ['norwegian'],\n",
      "             'entlebucher': [],\n",
      "             'eskimo': [],\n",
      "             'frise': ['bichon'],\n",
      "             'germanshepherd': [],\n",
      "             'greyhound': ['italian'],\n",
      "             'groenendael': [],\n",
      "             'hound': ['afghan',\n",
      "                       'basset',\n",
      "                       'blood',\n",
      "                       'english',\n",
      "                       'ibizan',\n",
      "                       'walker'],\n",
      "             'husky': [],\n",
      "             'keeshond': [],\n",
      "             'kelpie': [],\n",
      "             'komondor': [],\n",
      "             'kuvasz': [],\n",
      "             'labrador': [],\n",
      "             'leonberg': [],\n",
      "             'lhasa': [],\n",
      "             'malamute': [],\n",
      "             'malinois': [],\n",
      "             'maltese': [],\n",
      "             'mastiff': ['bull', 'english', 'tibetan'],\n",
      "             'mexicanhairless': [],\n",
      "             'mix': [],\n",
      "             'mountain': ['bernese', 'swiss'],\n",
      "             'newfoundland': [],\n",
      "             'otterhound': [],\n",
      "             'papillon': [],\n",
      "             'pekinese': [],\n",
      "             'pembroke': [],\n",
      "             'pinscher': ['miniature'],\n",
      "             'pointer': ['german', 'germanlonghair'],\n",
      "             'pomeranian': [],\n",
      "             'poodle': ['miniature', 'standard', 'toy'],\n",
      "             'pug': [],\n",
      "             'puggle': [],\n",
      "             'pyrenees': [],\n",
      "             'redbone': [],\n",
      "             'retriever': ['chesapeake', 'curly', 'flatcoated', 'golden'],\n",
      "             'ridgeback': ['rhodesian'],\n",
      "             'rottweiler': [],\n",
      "             'saluki': [],\n",
      "             'samoyed': [],\n",
      "             'schipperke': [],\n",
      "             'schnauzer': ['giant', 'miniature'],\n",
      "             'setter': ['english', 'gordon', 'irish'],\n",
      "             'sheepdog': ['english', 'shetland'],\n",
      "             'shiba': [],\n",
      "             'shihtzu': [],\n",
      "             'spaniel': ['blenheim',\n",
      "                         'brittany',\n",
      "                         'cocker',\n",
      "                         'irish',\n",
      "                         'japanese',\n",
      "                         'sussex',\n",
      "                         'welsh'],\n",
      "             'springer': ['english'],\n",
      "             'stbernard': [],\n",
      "             'terrier': ['american',\n",
      "                         'australian',\n",
      "                         'bedlington',\n",
      "                         'border',\n",
      "                         'dandie',\n",
      "                         'fox',\n",
      "                         'irish',\n",
      "                         'kerryblue',\n",
      "                         'lakeland',\n",
      "                         'norfolk',\n",
      "                         'norwich',\n",
      "                         'patterdale',\n",
      "                         'russell',\n",
      "                         'scottish',\n",
      "                         'sealyham',\n",
      "                         'silky',\n",
      "                         'tibetan',\n",
      "                         'toy',\n",
      "                         'westhighland',\n",
      "                         'wheaten',\n",
      "                         'yorkshire'],\n",
      "             'vizsla': [],\n",
      "             'weimaraner': [],\n",
      "             'whippet': [],\n",
      "             'wolfhound': ['irish']},\n",
      " 'status': 'success'}\n"
     ]
    }
   ],
   "source": [
    "response = urllib.request.urlopen('https://dog.ceo/api/breeds/list/all')\n",
    "data = json.loads(response.read())\n",
    "pprint.pprint(data)"
   ]
  },
  {
   "cell_type": "code",
   "execution_count": 5,
   "metadata": {},
   "outputs": [
    {
     "data": {
      "text/html": [
       "<img src=\"https://images.dog.ceo/breeds/husky/20180901_150234.jpg\"/>"
      ],
      "text/plain": [
       "<IPython.core.display.Image object>"
      ]
     },
     "metadata": {},
     "output_type": "display_data"
    },
    {
     "data": {
      "text/html": [
       "<img src=\"https://images.dog.ceo/breeds/husky/20180904_185604.jpg\"/>"
      ],
      "text/plain": [
       "<IPython.core.display.Image object>"
      ]
     },
     "metadata": {},
     "output_type": "display_data"
    },
    {
     "data": {
      "text/html": [
       "<img src=\"https://images.dog.ceo/breeds/husky/20180924_193829.jpg\"/>"
      ],
      "text/plain": [
       "<IPython.core.display.Image object>"
      ]
     },
     "metadata": {},
     "output_type": "display_data"
    },
    {
     "data": {
      "text/html": [
       "<img src=\"https://images.dog.ceo/breeds/husky/n02110185_10047.jpg\"/>"
      ],
      "text/plain": [
       "<IPython.core.display.Image object>"
      ]
     },
     "metadata": {},
     "output_type": "display_data"
    },
    {
     "data": {
      "text/html": [
       "<img src=\"https://images.dog.ceo/breeds/husky/n02110185_10116.jpg\"/>"
      ],
      "text/plain": [
       "<IPython.core.display.Image object>"
      ]
     },
     "metadata": {},
     "output_type": "display_data"
    }
   ],
   "source": [
    "from IPython.display import Image, display\n",
    "\n",
    "response = urllib.request.urlopen('https://dog.ceo/api/breed/husky/images')\n",
    "data = json.loads(response.read())\n",
    "first_5 = data['message'][:5]\n",
    "for image_url in first_5:\n",
    "    display(Image(url=image_url))\n"
   ]
  }
 ],
 "metadata": {
  "kernelspec": {
   "display_name": "Python 3",
   "language": "python",
   "name": "python3"
  },
  "language_info": {
   "codemirror_mode": {
    "name": "ipython",
    "version": 3
   },
   "file_extension": ".py",
   "mimetype": "text/x-python",
   "name": "python",
   "nbconvert_exporter": "python",
   "pygments_lexer": "ipython3",
   "version": "3.6.4"
  }
 },
 "nbformat": 4,
 "nbformat_minor": 2
}
